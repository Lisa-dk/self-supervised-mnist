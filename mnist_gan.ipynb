{
 "cells": [
  {
   "cell_type": "code",
   "execution_count": 1,
   "metadata": {},
   "outputs": [
    {
     "name": "stdout",
     "output_type": "stream",
     "text": [
      "2.10.1\n"
     ]
    }
   ],
   "source": [
    "import keras\n",
    "\n",
    "from keras import layers\n",
    "# from keras import ops\n",
    "# from tensorflow_docs.vis import embed\n",
    "import tensorflow as tf\n",
    "import numpy as np\n",
    "import imageio\n",
    "import tensorflow as tf\n",
    "print(tf.__version__)\n",
    "\n",
    "import numpy as np\n",
    "import imageio, os\n",
    "from gan_model import CGAN\n",
    "from utils import generate_and_save_images\n",
    "from sklearn.model_selection import train_test_split\n",
    "\n",
    "\n",
    "import imgaug.augmenters as iaa"
   ]
  },
  {
   "cell_type": "code",
   "execution_count": 2,
   "metadata": {},
   "outputs": [],
   "source": [
    "\n",
    "def make_discriminator_model(discriminator_in_channels):\n",
    "    # Create the discriminator.\n",
    "    discriminator = tf.keras.Sequential(\n",
    "        [\n",
    "            tf.keras.layers.InputLayer((28, 28, discriminator_in_channels)),\n",
    "            layers.Conv2D(64, (3, 3), strides=(2, 2), padding=\"same\"),\n",
    "            layers.LeakyReLU(0.2),\n",
    "            layers.Conv2D(128, (3, 3), strides=(2, 2), padding=\"same\"),\n",
    "            layers.LeakyReLU(0.2),\n",
    "            layers.GlobalMaxPooling2D(),\n",
    "            layers.Dense(1),\n",
    "        ],\n",
    "        name=\"discriminator\",\n",
    "    )\n",
    "    return discriminator\n",
    "\n",
    "def make_generator_model(generator_in_channels):\n",
    "# Create the generator.\n",
    "    generator = tf.keras.Sequential(\n",
    "        [\n",
    "            tf.keras.layers.InputLayer((generator_in_channels,)),\n",
    "            # We want to generate 128 + num_classes coefficients to reshape into a\n",
    "            # 7x7x(128 + num_classes) map.\n",
    "            layers.Dense(7 * 7 * generator_in_channels),\n",
    "            layers.LeakyReLU(0.2),\n",
    "            layers.Reshape((7, 7, generator_in_channels)),\n",
    "            layers.Conv2DTranspose(128, (4, 4), strides=(2, 2), padding=\"same\"),\n",
    "            layers.LeakyReLU(0.2),\n",
    "            layers.Conv2DTranspose(128, (4, 4), strides=(2, 2), padding=\"same\"),\n",
    "            layers.LeakyReLU(0.2),\n",
    "            layers.Conv2D(1, (7, 7), padding=\"same\", activation=\"sigmoid\"),\n",
    "        ],\n",
    "        name=\"generator\",\n",
    "    )\n",
    "    return generator"
   ]
  },
  {
   "cell_type": "code",
   "execution_count": 3,
   "metadata": {},
   "outputs": [],
   "source": [
    "batch_size = 64\n",
    "num_channels = 1\n",
    "num_classes = 10\n",
    "image_size = 28\n",
    "latent_dim = 128\n",
    "\n",
    "generator_in_channels = latent_dim + num_classes\n",
    "discriminator_in_channels = num_channels + num_classes\n",
    "RANDOM_STATE=42"
   ]
  },
  {
   "cell_type": "code",
   "execution_count": 4,
   "metadata": {},
   "outputs": [],
   "source": [
    "model_path = \"./gan_model/gan_model.keras\"\n",
    "os.makedirs(model_path, exist_ok=True)\n",
    "model_dir = os.path.dirname(model_path)"
   ]
  },
  {
   "cell_type": "code",
   "execution_count": 5,
   "metadata": {},
   "outputs": [],
   "source": [
    "checkpoint_path = \"training/gan.ckpt\"\n",
    "os.makedirs(checkpoint_path, exist_ok=True)\n",
    "checkpoint_dir = os.path.dirname(checkpoint_path)\n",
    "\n",
    "# Create a callback that saves the model's weights\n",
    "cp_callback = tf.keras.callbacks.ModelCheckpoint(filepath=checkpoint_path,\n",
    "                                                 save_weights_only=True,\n",
    "                                                 verbose=0)"
   ]
  },
  {
   "cell_type": "code",
   "execution_count": 6,
   "metadata": {},
   "outputs": [],
   "source": [
    "cgan = CGAN(\n",
    "    discriminator=make_discriminator_model(discriminator_in_channels), \n",
    "    generator=make_generator_model(generator_in_channels), latent_dim=latent_dim, \n",
    "    image_size=image_size, num_classes=num_classes\n",
    ")\n",
    "\n",
    "cgan.compile(\n",
    "    d_optimizer=tf.keras.optimizers.Adam(learning_rate=0.0003),\n",
    "    g_optimizer=tf.keras.optimizers.Adam(learning_rate=0.0003),\n",
    "    loss_fn=tf.keras.losses.BinaryCrossentropy(from_logits=True)\n",
    ")"
   ]
  },
  {
   "cell_type": "code",
   "execution_count": 7,
   "metadata": {},
   "outputs": [],
   "source": [
    "aug_seq = iaa.Sequential([\n",
    "            iaa.Rotate((-10, 10), random_state=RANDOM_STATE),                 \n",
    "            iaa.ShearX((-10, 10), random_state=RANDOM_STATE),                  \n",
    "            iaa.ShearY((-10, 10), random_state=RANDOM_STATE),\n",
    "        ])\n",
    "\n",
    "def augment(image):\n",
    "    image = aug_seq.augment_image(image)\n",
    "    return image"
   ]
  },
  {
   "cell_type": "code",
   "execution_count": 8,
   "metadata": {},
   "outputs": [],
   "source": [
    "(x_train, y_train), (x_test, y_test) = tf.keras.datasets.mnist.load_data()\n",
    "_, x_train, _, y_train = train_test_split(x_train, y_train, test_size=0.5, random_state=42)\n",
    "x_train, x_val, y_train, y_val = train_test_split(x_train, y_train, test_size=0.1, random_state=42) \n",
    "all_digits = np.concatenate([x_train, x_test])\n",
    "all_labels = np.concatenate([y_train, y_test])"
   ]
  },
  {
   "cell_type": "code",
   "execution_count": 9,
   "metadata": {},
   "outputs": [
    {
     "data": {
      "text/plain": [
       "{0: 2687,\n",
       " 1: 3010,\n",
       " 2: 2624,\n",
       " 3: 2771,\n",
       " 4: 2644,\n",
       " 5: 2484,\n",
       " 6: 2704,\n",
       " 7: 2840,\n",
       " 8: 2575,\n",
       " 9: 2661}"
      ]
     },
     "execution_count": 9,
     "metadata": {},
     "output_type": "execute_result"
    }
   ],
   "source": [
    "unique, counts = np.unique(y_train, return_counts=True)\n",
    "dict(zip(unique, counts))\n"
   ]
  },
  {
   "cell_type": "code",
   "execution_count": 10,
   "metadata": {},
   "outputs": [],
   "source": [
    "\n",
    "# Scale the pixel values to [0, 1] range, add a channel dimension to\n",
    "# the images, and one-hot encode the labels.\n",
    "x_train_aug = np.asarray([augment(x) for x in x_train.astype(\"float32\")])\n",
    "x_train = x_train.astype(\"float32\") / 255.0\n",
    "x_train_aug = x_train_aug.astype(\"float32\") / 255.0\n"
   ]
  },
  {
   "cell_type": "code",
   "execution_count": 11,
   "metadata": {},
   "outputs": [
    {
     "name": "stdout",
     "output_type": "stream",
     "text": [
      "1.0\n"
     ]
    }
   ],
   "source": [
    "print(np.max(x_train_aug))"
   ]
  },
  {
   "cell_type": "code",
   "execution_count": 12,
   "metadata": {},
   "outputs": [],
   "source": [
    "x_train = np.concatenate([x_train, np.array(x_train_aug)])\n",
    "y_train = np.concatenate([y_train, y_train])"
   ]
  },
  {
   "cell_type": "code",
   "execution_count": 13,
   "metadata": {},
   "outputs": [
    {
     "name": "stdout",
     "output_type": "stream",
     "text": [
      "Shape of training images: (54000, 28, 28, 1)\n",
      "Shape of training labels: (54000, 10)\n"
     ]
    }
   ],
   "source": [
    "x_train = np.reshape(x_train, (-1, 28, 28, 1))\n",
    "y_train = tf.keras.utils.to_categorical(y_train, 10)\n",
    "\n",
    "x_val = x_val.astype(\"float32\") / 255.0\n",
    "x_val = np.reshape(x_val, (-1, 28, 28, 1))\n",
    "y_val = tf.keras.utils.to_categorical(y_val, 10)\n",
    "\n",
    "train_dataset = tf.data.Dataset.from_tensor_slices((x_train, y_train))\n",
    "\n",
    "train_dataset = train_dataset.shuffle(buffer_size=1024).batch(batch_size)\n",
    "\n",
    "val_dataset = tf.data.Dataset.from_tensor_slices((x_val, y_val))\n",
    "val_dataset = val_dataset.shuffle(buffer_size=1024).batch(batch_size)\n",
    "\n",
    "print(f\"Shape of training images: {x_train.shape}\")\n",
    "print(f\"Shape of training labels: {y_train.shape}\")"
   ]
  },
  {
   "cell_type": "code",
   "execution_count": 14,
   "metadata": {},
   "outputs": [
    {
     "name": "stdout",
     "output_type": "stream",
     "text": [
      "Epoch 1/30\n",
      "844/844 [==============================] - 37s 39ms/step - g_loss: 1.5686 - d_loss: 0.3974 - val_g_loss: 0.9614 - val_d_loss: 0.7078\n",
      "Epoch 2/30\n",
      "844/844 [==============================] - 32s 38ms/step - g_loss: 1.3387 - d_loss: 0.4999 - val_g_loss: 1.3155 - val_d_loss: 0.4179\n",
      "Epoch 3/30\n",
      "844/844 [==============================] - 32s 38ms/step - g_loss: 1.8844 - d_loss: 0.3250 - val_g_loss: 4.8167 - val_d_loss: 0.0257\n",
      "Epoch 4/30\n",
      "844/844 [==============================] - 32s 38ms/step - g_loss: 3.4486 - d_loss: 0.1529 - val_g_loss: 3.5486 - val_d_loss: 0.1826\n",
      "Epoch 5/30\n",
      "844/844 [==============================] - 32s 38ms/step - g_loss: 2.8520 - d_loss: 0.1424 - val_g_loss: 4.7502 - val_d_loss: 0.2127\n",
      "Epoch 6/30\n",
      "844/844 [==============================] - 33s 39ms/step - g_loss: 3.2967 - d_loss: 0.0984 - val_g_loss: 3.0165 - val_d_loss: 1.1366\n",
      "Epoch 7/30\n",
      "844/844 [==============================] - 33s 39ms/step - g_loss: 1.4407 - d_loss: 0.5800 - val_g_loss: 0.8839 - val_d_loss: 1.0100\n",
      "Epoch 8/30\n",
      "844/844 [==============================] - 32s 38ms/step - g_loss: 1.1113 - d_loss: 0.6207 - val_g_loss: 0.8182 - val_d_loss: 0.7868\n",
      "Epoch 9/30\n",
      "844/844 [==============================] - 32s 37ms/step - g_loss: 0.9928 - d_loss: 0.6331 - val_g_loss: 0.8496 - val_d_loss: 0.7512\n",
      "Epoch 10/30\n",
      "844/844 [==============================] - 32s 38ms/step - g_loss: 0.9079 - d_loss: 0.6479 - val_g_loss: 0.9113 - val_d_loss: 0.8536\n",
      "Epoch 11/30\n",
      "844/844 [==============================] - 32s 38ms/step - g_loss: 0.8639 - d_loss: 0.6710 - val_g_loss: 0.8317 - val_d_loss: 0.8169\n",
      "Epoch 12/30\n",
      "844/844 [==============================] - 32s 38ms/step - g_loss: 0.7952 - d_loss: 0.6834 - val_g_loss: 0.7138 - val_d_loss: 0.8259\n",
      "Epoch 13/30\n",
      "844/844 [==============================] - 32s 37ms/step - g_loss: 0.7849 - d_loss: 0.6843 - val_g_loss: 0.7088 - val_d_loss: 0.7910\n",
      "Epoch 14/30\n",
      "844/844 [==============================] - 32s 38ms/step - g_loss: 0.7568 - d_loss: 0.6917 - val_g_loss: 0.7457 - val_d_loss: 0.7449\n",
      "Epoch 15/30\n",
      "844/844 [==============================] - 33s 39ms/step - g_loss: 0.7489 - d_loss: 0.6900 - val_g_loss: 0.7232 - val_d_loss: 0.7315\n",
      "Epoch 16/30\n",
      "844/844 [==============================] - 32s 38ms/step - g_loss: 0.7260 - d_loss: 0.6922 - val_g_loss: 0.7247 - val_d_loss: 0.7999\n",
      "Epoch 17/30\n",
      "844/844 [==============================] - 32s 38ms/step - g_loss: 0.7519 - d_loss: 0.6907 - val_g_loss: 0.7259 - val_d_loss: 0.7793\n",
      "Epoch 18/30\n",
      "844/844 [==============================] - 32s 38ms/step - g_loss: 0.7286 - d_loss: 0.6941 - val_g_loss: 0.6989 - val_d_loss: 0.8150\n",
      "Epoch 19/30\n",
      "844/844 [==============================] - 32s 37ms/step - g_loss: 0.7386 - d_loss: 0.6971 - val_g_loss: 0.6580 - val_d_loss: 0.7838\n",
      "Epoch 20/30\n",
      "844/844 [==============================] - 31s 37ms/step - g_loss: 0.7322 - d_loss: 0.6915 - val_g_loss: 0.6512 - val_d_loss: 0.7942\n",
      "Epoch 21/30\n",
      "844/844 [==============================] - 31s 36ms/step - g_loss: 0.7246 - d_loss: 0.6941 - val_g_loss: 0.6497 - val_d_loss: 0.7770\n",
      "Epoch 22/30\n",
      "844/844 [==============================] - 30s 36ms/step - g_loss: 0.7141 - d_loss: 0.6966 - val_g_loss: 0.6811 - val_d_loss: 0.7886\n",
      "Epoch 23/30\n",
      "844/844 [==============================] - 30s 36ms/step - g_loss: 0.7271 - d_loss: 0.6900 - val_g_loss: 0.6930 - val_d_loss: 0.7338\n",
      "Epoch 24/30\n",
      "844/844 [==============================] - 30s 36ms/step - g_loss: 0.7208 - d_loss: 0.6920 - val_g_loss: 0.7189 - val_d_loss: 0.7334\n",
      "Epoch 25/30\n",
      "844/844 [==============================] - 30s 36ms/step - g_loss: 0.7245 - d_loss: 0.6877 - val_g_loss: 0.7390 - val_d_loss: 0.7427\n",
      "Epoch 26/30\n",
      "844/844 [==============================] - 31s 37ms/step - g_loss: 0.7490 - d_loss: 0.6843 - val_g_loss: 0.6750 - val_d_loss: 0.7444\n",
      "Epoch 27/30\n",
      "844/844 [==============================] - 32s 37ms/step - g_loss: 0.7297 - d_loss: 0.6857 - val_g_loss: 0.6747 - val_d_loss: 0.7661\n",
      "Epoch 28/30\n",
      "844/844 [==============================] - 32s 37ms/step - g_loss: 0.7254 - d_loss: 0.6903 - val_g_loss: 0.6780 - val_d_loss: 0.7614\n",
      "Epoch 29/30\n",
      "844/844 [==============================] - 32s 37ms/step - g_loss: 0.7189 - d_loss: 0.6898 - val_g_loss: 0.7050 - val_d_loss: 0.7656\n",
      "Epoch 30/30\n",
      "844/844 [==============================] - 31s 37ms/step - g_loss: 0.7193 - d_loss: 0.6905 - val_g_loss: 0.7253 - val_d_loss: 0.7474\n",
      "WARNING:tensorflow:Compiled the loaded model, but the compiled metrics have yet to be built. `model.compile_metrics` will be empty until you train or evaluate the model.\n"
     ]
    }
   ],
   "source": [
    "epochs = 30\n",
    "cgan.compiled_metrics == None\n",
    "\n",
    "cgan.fit(train_dataset, epochs=epochs, validation_data=val_dataset)\n",
    "\n",
    "cgan.generator.save(\"mnist_gan.keras\")"
   ]
  },
  {
   "cell_type": "code",
   "execution_count": 15,
   "metadata": {},
   "outputs": [
    {
     "name": "stdout",
     "output_type": "stream",
     "text": [
      "WARNING:tensorflow:No training configuration found in the save file, so the model was *not* compiled. Compile it manually.\n",
      "tf.Tensor([18 10], shape=(2,), dtype=int32)\n",
      "tf.Tensor([ 18 128], shape=(2,), dtype=int32)\n",
      "tf.Tensor([ 18 128], shape=(2,), dtype=int32)\n"
     ]
    },
    {
     "data": {
      "image/png": "[encoded data removed]",
      "text/plain": [
       "<Figure size 400x600 with 18 Axes>"
      ]
     },
     "metadata": {},
     "output_type": "display_data"
    }
   ],
   "source": [
    "cgan = tf.keras.models.load_model(\"mnist_gan.keras\")\n",
    "\n",
    "labels = [i%10 for i in range(18)]\n",
    "one_hot_labels = tf.keras.utils.to_categorical(labels, num_classes)\n",
    "print(tf.shape(one_hot_labels))\n",
    "\n",
    "# Sample random points in the latent space.\n",
    "random_latent_vectors = tf.random.normal(\n",
    "    shape=(18, latent_dim), seed=1337\n",
    ")\n",
    "print(tf.shape(random_latent_vectors))\n",
    "\n",
    "random_vector_labels = tf.concat(\n",
    "    [random_latent_vectors, one_hot_labels], axis=1\n",
    ")\n",
    "\n",
    "print(tf.shape(random_latent_vectors))\n",
    "\n",
    "# Generate after the final epoch\n",
    "generate_and_save_images(cgan,\n",
    "                        epochs,\n",
    "                        random_vector_labels)"
   ]
  }
 ],
 "metadata": {
  "kernelspec": {
   "display_name": "python_310_env",
   "language": "python",
   "name": "python3"
  },
  "language_info": {
   "codemirror_mode": {
    "name": "ipython",
    "version": 3
   },
   "file_extension": ".py",
   "mimetype": "text/x-python",
   "name": "python",
   "nbconvert_exporter": "python",
   "pygments_lexer": "ipython3",
   "version": "3.10.13"
  }
 },
 "nbformat": 4,
 "nbformat_minor": 2
}
